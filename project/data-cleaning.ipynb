{
 "cells": [
  {
   "cell_type": "markdown",
   "metadata": {},
   "source": [
    "# Data Cleaning code for Marriage and Divorce Rate Charts"
   ]
  },
  {
   "cell_type": "code",
   "execution_count": 51,
   "metadata": {},
   "outputs": [],
   "source": [
    "import pandas as pd\n",
    "import json\n",
    "from datetime import datetime"
   ]
  },
  {
   "cell_type": "code",
   "execution_count": 68,
   "metadata": {},
   "outputs": [],
   "source": [
    "# Importing datasets\n",
    "marriage = pd.read_csv('../data/state-marriage-rates.csv')\n",
    "divorce = pd.read_csv('../data/state-divorce-rates.csv')\n",
    "sah = pd.read_csv('../data/stay-at-home.csv')\n",
    "fips = pd.read_csv('../data/us-state-ansi-fips.csv')"
   ]
  },
  {
   "cell_type": "code",
   "execution_count": 78,
   "metadata": {},
   "outputs": [
    {
     "name": "stderr",
     "output_type": "stream",
     "text": [
      "C:\\Users\\kilaf\\AppData\\Local\\Temp\\ipykernel_22092\\224548818.py:11: FutureWarning: Comparison of NaT with datetime.date is deprecated in order to match the standard library behavior. In a future version these will be considered non-comparable.\n",
      "  if sah['Date enacted'][i] < unix_stamp(\"2020-03-22\"):\n",
      "C:\\Users\\kilaf\\AppData\\Local\\Temp\\ipykernel_22092\\224548818.py:13: FutureWarning: Comparison of NaT with datetime.date is deprecated in order to match the standard library behavior. In a future version these will be considered non-comparable.\n",
      "  elif unix_stamp(\"2020-03-22\") <= sah['Date enacted'][i] < unix_stamp(\"2020-03-29\"):\n",
      "C:\\Users\\kilaf\\AppData\\Local\\Temp\\ipykernel_22092\\224548818.py:15: FutureWarning: Comparison of NaT with datetime.date is deprecated in order to match the standard library behavior. In a future version these will be considered non-comparable.\n",
      "  elif unix_stamp(\"2020-03-29\") <= sah['Date enacted'][i] < unix_stamp(\"2020-04-05\"):\n",
      "C:\\Users\\kilaf\\AppData\\Local\\Temp\\ipykernel_22092\\224548818.py:17: FutureWarning: Comparison of NaT with datetime.date is deprecated in order to match the standard library behavior. In a future version these will be considered non-comparable.\n",
      "  elif unix_stamp(\"2020-04-05\") <= sah['Date enacted'][i] < unix_stamp(\"2020-04-12\"):\n"
     ]
    }
   ],
   "source": [
    "# Convert date objects\n",
    "sah['Date enacted'] = pd.to_datetime(sah['Date enacted']).dt.date\n",
    "sah['Date lifted'] = pd.to_datetime(sah['Date lifted']).dt.date\n",
    "\n",
    "def unix_stamp(date):\n",
    "    return  datetime.strptime(date,\"%Y-%m-%d\").date()\n",
    "\n",
    "sah['Group'] = \"\"\n",
    "\n",
    "for i, val in enumerate(sah['State']):\n",
    "    if sah['Date enacted'][i] < unix_stamp(\"2020-03-22\"):\n",
    "        sah['Group'][i] = 'Came into effect before March 22'\n",
    "    elif unix_stamp(\"2020-03-22\") <= sah['Date enacted'][i] < unix_stamp(\"2020-03-29\"):\n",
    "        sah['Group'][i] = 'Came into effect before March 29'\n",
    "    elif unix_stamp(\"2020-03-29\") <= sah['Date enacted'][i] < unix_stamp(\"2020-04-05\"):\n",
    "        sah['Group'][i] = 'Came into effect before April 5'\n",
    "    elif unix_stamp(\"2020-04-05\") <= sah['Date enacted'][i] < unix_stamp(\"2020-04-12\"):\n",
    "        sah['Group'][i] = 'Came into effect before April 12'\n",
    "    else:\n",
    "        sah['Group'][i] = \"No Statewide order\"\n",
    "\n",
    "#Merge to get Fips codes\n",
    "full_sah = sah.merge(fips, left_on='State', right_on='stname')\n",
    "\n",
    "#Remove extraneous variables and rename\n",
    "del full_sah[\" stusps\"]\n",
    "del full_sah[\"stname\"]\n",
    "full_sah = full_sah.rename(columns={\" st\": \"id\"})\n",
    "\n",
    "#Export the map data\n",
    "full_sah.to_csv('../data/sah_map_data.csv', index=False)"
   ]
  },
  {
   "cell_type": "code",
   "execution_count": 41,
   "metadata": {},
   "outputs": [],
   "source": [
    "## Data for Slope Graph\n",
    "# Will need to take data from wide to long \n",
    "\n",
    "def slope_data_clean(df, type):\n",
    "    '''\n",
    "    Function to clean data for use in Observables slope chart infrastructure.\n",
    "    '''\n",
    "\n",
    "    if type == \"Marriage\":\n",
    "        val_name = 'mar_rate'\n",
    "        path_name = '../data/marriage_long.json'\n",
    "    elif type == \"Divorce\":\n",
    "        val_name = 'div_rate'\n",
    "        path_name = '../data/divorce_long.json'\n",
    "\n",
    "        #Melt the wide data to long\n",
    "    df_long = pd.melt(df, id_vars='State', var_name='year', value_name=val_name)\n",
    "\n",
    "        #Convert year to date\n",
    "    df_long['year'] = pd.to_numeric(df_long['year'])\n",
    "    df_long[val_name] = pd.to_numeric(df_long[val_name])\n",
    "\n",
    "        # Filter 2019 and 2020\n",
    "    df_long = df_long[df_long.year >= 2019]   \n",
    "        #\n",
    "    df_long = df_long.to_dict('records')\n",
    "\n",
    "    with open(path_name, 'w') as fp:\n",
    "        json.dump(df_long, fp)\n"
   ]
  },
  {
   "cell_type": "code",
   "execution_count": 44,
   "metadata": {},
   "outputs": [],
   "source": [
    "## Running Slope clean\n",
    "slope_data_clean(marriage, \"Marriage\")\n",
    "slope_data_clean(divorce, \"Divorce\")"
   ]
  },
  {
   "cell_type": "code",
   "execution_count": 11,
   "metadata": {},
   "outputs": [
    {
     "data": {
      "text/html": [
       "<div>\n",
       "<style scoped>\n",
       "    .dataframe tbody tr th:only-of-type {\n",
       "        vertical-align: middle;\n",
       "    }\n",
       "\n",
       "    .dataframe tbody tr th {\n",
       "        vertical-align: top;\n",
       "    }\n",
       "\n",
       "    .dataframe thead th {\n",
       "        text-align: right;\n",
       "    }\n",
       "</style>\n",
       "<table border=\"1\" class=\"dataframe\">\n",
       "  <thead>\n",
       "    <tr style=\"text-align: right;\">\n",
       "      <th></th>\n",
       "      <th>State</th>\n",
       "      <th>mar_rate_19</th>\n",
       "      <th>mar_rate_20</th>\n",
       "      <th>div_rate_19</th>\n",
       "      <th>div_rate_20</th>\n",
       "      <th>stay_at_home</th>\n",
       "      <th>sah_enacted</th>\n",
       "      <th>sah_lifted</th>\n",
       "    </tr>\n",
       "  </thead>\n",
       "  <tbody>\n",
       "    <tr>\n",
       "      <th>0</th>\n",
       "      <td>Alabama</td>\n",
       "      <td>6.7</td>\n",
       "      <td>7.2</td>\n",
       "      <td>3.6</td>\n",
       "      <td>3.7</td>\n",
       "      <td>Yes</td>\n",
       "      <td>2020-04-04</td>\n",
       "      <td>2020-04-30</td>\n",
       "    </tr>\n",
       "    <tr>\n",
       "      <th>1</th>\n",
       "      <td>Alaska</td>\n",
       "      <td>6.5</td>\n",
       "      <td>5.7</td>\n",
       "      <td>3.6</td>\n",
       "      <td>3.2</td>\n",
       "      <td>Yes</td>\n",
       "      <td>2020-03-28</td>\n",
       "      <td>2020-04-21</td>\n",
       "    </tr>\n",
       "    <tr>\n",
       "      <th>2</th>\n",
       "      <td>Arizona</td>\n",
       "      <td>5.3</td>\n",
       "      <td>4.9</td>\n",
       "      <td>2.9</td>\n",
       "      <td>2.9</td>\n",
       "      <td>Yes</td>\n",
       "      <td>2020-03-31</td>\n",
       "      <td>2020-05-15</td>\n",
       "    </tr>\n",
       "    <tr>\n",
       "      <th>3</th>\n",
       "      <td>Arkansas</td>\n",
       "      <td>8.4</td>\n",
       "      <td>7.8</td>\n",
       "      <td>4.0</td>\n",
       "      <td>3.6</td>\n",
       "      <td>No</td>\n",
       "      <td>NaT</td>\n",
       "      <td>NaT</td>\n",
       "    </tr>\n",
       "    <tr>\n",
       "      <th>4</th>\n",
       "      <td>California</td>\n",
       "      <td>5.7</td>\n",
       "      <td>3.2</td>\n",
       "      <td>NaN</td>\n",
       "      <td>NaN</td>\n",
       "      <td>Yes</td>\n",
       "      <td>2020-03-19</td>\n",
       "      <td>2020-06-15</td>\n",
       "    </tr>\n",
       "    <tr>\n",
       "      <th>5</th>\n",
       "      <td>Colorado</td>\n",
       "      <td>7.3</td>\n",
       "      <td>6.7</td>\n",
       "      <td>3.3</td>\n",
       "      <td>2.9</td>\n",
       "      <td>Yes</td>\n",
       "      <td>2020-03-26</td>\n",
       "      <td>2020-04-26</td>\n",
       "    </tr>\n",
       "  </tbody>\n",
       "</table>\n",
       "</div>"
      ],
      "text/plain": [
       "        State  mar_rate_19  mar_rate_20  div_rate_19  div_rate_20  \\\n",
       "0     Alabama          6.7          7.2          3.6          3.7   \n",
       "1      Alaska          6.5          5.7          3.6          3.2   \n",
       "2     Arizona          5.3          4.9          2.9          2.9   \n",
       "3    Arkansas          8.4          7.8          4.0          3.6   \n",
       "4  California          5.7          3.2          NaN          NaN   \n",
       "5    Colorado          7.3          6.7          3.3          2.9   \n",
       "\n",
       "  stay_at_home sah_enacted  sah_lifted  \n",
       "0          Yes  2020-04-04  2020-04-30  \n",
       "1          Yes  2020-03-28  2020-04-21  \n",
       "2          Yes  2020-03-31  2020-05-15  \n",
       "3           No         NaT         NaT  \n",
       "4          Yes  2020-03-19  2020-06-15  \n",
       "5          Yes  2020-03-26  2020-04-26  "
      ]
     },
     "execution_count": 11,
     "metadata": {},
     "output_type": "execute_result"
    }
   ],
   "source": [
    "# Merging data for grouping\n",
    "\n",
    "group_df = pd.DataFrame({'State': marriage['State'], 'mar_rate_19': marriage['2019'], \n",
    "                        'mar_rate_20': marriage['2020'], 'div_rate_19': divorce['2019'],\n",
    "                        'div_rate_20': divorce['2020'], 'stay_at_home': sah['Stay-at-home'],\n",
    "                        'sah_enacted': sah['Date enacted'], 'sah_lifted': sah['Date lifted']})\n",
    "\n",
    "\n"
   ]
  },
  {
   "cell_type": "code",
   "execution_count": 50,
   "metadata": {},
   "outputs": [],
   "source": [
    "## Data for US divorce and marriage rate line chart\n",
    "\n",
    "us = pd.read_csv('../data/national-mar-div-rates.csv')\n",
    "\n",
    "us = pd.melt(us, id_vars='Year')\n",
    "\n",
    "us.to_csv('../data/us_mar_div.csv',index=False)"
   ]
  },
  {
   "cell_type": "code",
   "execution_count": null,
   "metadata": {},
   "outputs": [],
   "source": []
  }
 ],
 "metadata": {
  "kernelspec": {
   "display_name": "Python 3.10.8 64-bit (microsoft store)",
   "language": "python",
   "name": "python3"
  },
  "language_info": {
   "codemirror_mode": {
    "name": "ipython",
    "version": 3
   },
   "file_extension": ".py",
   "mimetype": "text/x-python",
   "name": "python",
   "nbconvert_exporter": "python",
   "pygments_lexer": "ipython3",
   "version": "3.10.8"
  },
  "orig_nbformat": 4,
  "vscode": {
   "interpreter": {
    "hash": "bf2a9a08f200100add51c37087134ba6a1ef5743cb2fc8b53bc94907f2f8034a"
   }
  }
 },
 "nbformat": 4,
 "nbformat_minor": 2
}
